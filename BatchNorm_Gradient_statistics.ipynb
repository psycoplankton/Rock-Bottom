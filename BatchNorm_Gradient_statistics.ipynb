{
 "cells": [
  {
   "cell_type": "code",
   "execution_count": 2,
   "metadata": {},
   "outputs": [],
   "source": [
    "import torch \n",
    "import torch.nn.functional as F\n",
    "import matplotlib.pyplot as plt\n",
    "%matplotlib inline\n",
    "\n",
    "filepath = r\"C:\\Users\\vansh\\AI and ML reading material\\MakeMore-Implementing NLP models\\names.txt\""
   ]
  },
  {
   "cell_type": "code",
   "execution_count": 3,
   "metadata": {},
   "outputs": [
    {
     "data": {
      "text/plain": [
       "['emma', 'olivia', 'ava', 'isabella', 'sophia']"
      ]
     },
     "execution_count": 3,
     "metadata": {},
     "output_type": "execute_result"
    }
   ],
   "source": [
    "#read in the dataset\n",
    "words = open(filepath, 'r').read().splitlines()\n",
    "words[:5]"
   ]
  },
  {
   "cell_type": "code",
   "execution_count": 4,
   "metadata": {},
   "outputs": [
    {
     "name": "stdout",
     "output_type": "stream",
     "text": [
      "The total number of words in the dataset are:  32033\n"
     ]
    }
   ],
   "source": [
    "print(\"The total number of words in the dataset are: \",len(words))"
   ]
  },
  {
   "cell_type": "code",
   "execution_count": 5,
   "metadata": {},
   "outputs": [
    {
     "name": "stdout",
     "output_type": "stream",
     "text": [
      "{1: 'a', 2: 'b', 3: 'c', 4: 'd', 5: 'e', 6: 'f', 7: 'g', 8: 'h', 9: 'i', 10: 'j', 11: 'k', 12: 'l', 13: 'm', 14: 'n', 15: 'o', 16: 'p', 17: 'q', 18: 'r', 19: 's', 20: 't', 21: 'u', 22: 'v', 23: 'w', 24: 'x', 25: 'y', 26: 'z', 0: '.'}\n",
      "27\n"
     ]
    }
   ],
   "source": [
    "#build the vocabulary of characters and mappings to/from integers\n",
    "chars = sorted(list(set(''.join(words))))\n",
    "stoi = {c:i+1 for i, c in enumerate(chars)}\n",
    "stoi['.'] = 0\n",
    "itos = {i:c for c, i in stoi.items()}\n",
    "vocab_size = len(itos)\n",
    "print(itos)\n",
    "print(vocab_size)"
   ]
  },
  {
   "cell_type": "code",
   "execution_count": 6,
   "metadata": {},
   "outputs": [
    {
     "name": "stdout",
     "output_type": "stream",
     "text": [
      "torch.Size([182619, 3])\n",
      "torch.Size([182619])\n",
      "torch.Size([22804, 3])\n",
      "torch.Size([22804])\n",
      "torch.Size([22723, 3])\n",
      "torch.Size([22723])\n"
     ]
    }
   ],
   "source": [
    "#build the dataset\n",
    "block_size = 3 #context_length\n",
    "\n",
    "def build_dataset(words):\n",
    "    X, Y = [], []\n",
    "\n",
    "    for w in words:\n",
    "        context = [0]*block_size\n",
    "        for ch in w + '.':\n",
    "            ix = stoi[ch]\n",
    "            X.append(context)\n",
    "            Y.append(ix)\n",
    "            context = context[1:] + [ix]\n",
    "\n",
    "    X = torch.tensor(X)\n",
    "    Y = torch.tensor(Y)\n",
    "    print(X.shape), print(Y.shape)\n",
    "\n",
    "    return X, Y\n",
    "\n",
    "import random\n",
    "random.seed(3125)\n",
    "random.shuffle(words)\n",
    "n1 = int(0.8*len(words))\n",
    "n2 = int(0.9*len(words))\n",
    "\n",
    "Xtr, Ytr = build_dataset(words[:n1])\n",
    "Xdev, Ydev = build_dataset(words[n1:n2])\n",
    "Xte, Yte = build_dataset(words[n2:])\n"
   ]
  },
  {
   "cell_type": "code",
   "execution_count": 12,
   "metadata": {},
   "outputs": [
    {
     "name": "stdout",
     "output_type": "stream",
     "text": [
      "11897\n"
     ]
    }
   ],
   "source": [
    "#MLP revisited \n",
    "n_embed = 10 #number of embedding dimensions\n",
    "n_hidden = 200 #number of hidden units\n",
    "\n",
    "g = torch.Generator().manual_seed(12345)\n",
    "C = torch.randn((vocab_size, n_embed), generator=g, requires_grad=True) #generate the embeddings for each of the 27 characters\n",
    "W1 = torch.randn((n_embed*block_size, n_hidden), generator=g, requires_grad=True) #weight matrix of the first layer\n",
    "b1 = torch.randn(n_hidden, generator=g, requires_grad=True)\n",
    "W2 = torch.randn((n_hidden, vocab_size), generator=g, requires_grad=False) * 0.01 \n",
    "b2 = torch.randn(vocab_size, generator=g, requires_grad=False) * 0\n",
    "\n",
    "parameters = [C, W1, b1, W2, b2]\n",
    "print(sum(p.nelement() for p in parameters))\n",
    "for p in parameters:\n",
    "    p.requires_grad = True"
   ]
  },
  {
   "cell_type": "code",
   "execution_count": 13,
   "metadata": {},
   "outputs": [
    {
     "name": "stdout",
     "output_type": "stream",
     "text": [
      "      0/  20000 : 3.3084\n",
      "   1000/  20000 : 2.6461\n",
      "   2000/  20000 : 2.8674\n",
      "   3000/  20000 : 2.3533\n",
      "   4000/  20000 : 2.1217\n",
      "   5000/  20000 : 2.2072\n",
      "   6000/  20000 : 2.5251\n",
      "   7000/  20000 : 2.1254\n",
      "   8000/  20000 : 2.0604\n",
      "   9000/  20000 : 2.2142\n",
      "  10000/  20000 : 2.4607\n",
      "  11000/  20000 : 2.2867\n",
      "  12000/  20000 : 2.7441\n",
      "  13000/  20000 : 2.4116\n",
      "  14000/  20000 : 2.3622\n",
      "  15000/  20000 : 2.2994\n",
      "  16000/  20000 : 1.9615\n",
      "  17000/  20000 : 2.3284\n",
      "  18000/  20000 : 1.8240\n",
      "  19000/  20000 : 2.3152\n"
     ]
    }
   ],
   "source": [
    "import torch.nn.functional as F\n",
    "#same optimization as last time\n",
    "max_steps = 20000\n",
    "batch_size = 32\n",
    "lossi=[]\n",
    "\n",
    "for i in range(max_steps):\n",
    "    #minibatch construct\n",
    "    ix = torch.randint(0, Xtr.shape[0], (batch_size,), generator=g)\n",
    "    Xb, Yb = Xtr[ix], Ytr[ix]\n",
    "\n",
    "    #forward pass\n",
    "    emb = C[Xb] #embed the characters into the vectors\n",
    "    embcat = emb.view(emb.shape[0], -1) #concatenate vectors\n",
    "    hpreact = embcat @ W1 + b1\n",
    "    h = torch.tanh(hpreact) #hidden layer\n",
    "    logits = h @ W2 + b2\n",
    "    loss = F.cross_entropy(logits, Yb) #loss function\n",
    "\n",
    "    #backward pass\n",
    "    for p in parameters:\n",
    "        p.grad = None\n",
    "    loss.backward()\n",
    "\n",
    "    #update\n",
    "    lr = 0.1 if i<100000 else 0.01 #step learning rate decay\n",
    "    for p in parameters:\n",
    "        p.data += -lr*p.grad\n",
    "\n",
    "    #track statistics\n",
    "    if i%1000 == 0:\n",
    "        print(f\"{i:7d}/{max_steps:7d} : {loss.item():.4f}\")\n",
    "    lossi.append(loss.log10().item())\n",
    "\n"
   ]
  },
  {
   "cell_type": "code",
   "execution_count": 10,
   "metadata": {},
   "outputs": [
    {
     "data": {
      "text/plain": [
       "[<matplotlib.lines.Line2D at 0x1dd637352e0>]"
      ]
     },
     "execution_count": 10,
     "metadata": {},
     "output_type": "execute_result"
    },
    {
     "data": {
      "image/png": "[encoded data removed]",
      "text/plain": [
       "<Figure size 640x480 with 1 Axes>"
      ]
     },
     "metadata": {},
     "output_type": "display_data"
    }
   ],
   "source": [
    "plt.plot(lossi)"
   ]
  },
  {
   "cell_type": "markdown",
   "metadata": {},
   "source": [
    "The ideal random distribution will have the same probabilities for all the variables which will be 1/27. If we can we start from this point and the learn better probabilites it will be less computationally expensive. To do this we clip the weights of the neural nework by a constant, say 0.1"
   ]
  },
  {
   "cell_type": "code",
   "execution_count": 40,
   "metadata": {},
   "outputs": [
    {
     "data": {
      "text/plain": [
       "[<matplotlib.lines.Line2D at 0x1f78e3e6130>]"
      ]
     },
     "execution_count": 40,
     "metadata": {},
     "output_type": "execute_result"
    },
    {
     "data": {
      "image/png": "[encoded data removed]",
      "text/plain": [
       "<Figure size 640x480 with 1 Axes>"
      ]
     },
     "metadata": {},
     "output_type": "display_data"
    }
   ],
   "source": [
    "plt.plot(lossi)"
   ]
  },
  {
   "cell_type": "code",
   "execution_count": 14,
   "metadata": {},
   "outputs": [
    {
     "name": "stdout",
     "output_type": "stream",
     "text": [
      "train 2.2974042892456055\n",
      "val 2.333411931991577\n"
     ]
    }
   ],
   "source": [
    "@torch.no_grad() #this decorater disables gradient tracking\n",
    "def split_loss(split):\n",
    "    x, y = {\n",
    "        \"train\": (Xtr, Ytr),\n",
    "        \"val\": (Xdev, Ydev),\n",
    "        \"test\": (Xte, Yte),\n",
    "    }[split]\n",
    "    emb = C[x] # (N, block_size, n_embed)\n",
    "    embcat = emb.view(emb.shape[0], -1) #concat into (N, block_size*n_embed)\n",
    "    h = torch.tanh(embcat @ W1 + b1) #(N, n_hidden)\n",
    "    logits = h @ W2 + b2 # (N, vocab_size)\n",
    "    loss = F.cross_entropy(logits, y)\n",
    "    print(split, loss.item())\n",
    "\n",
    "split_loss('train')\n",
    "split_loss('val')\n"
   ]
  },
  {
   "cell_type": "markdown",
   "metadata": {},
   "source": [
    "#### ------BATCH NORMALIZATION-------"
   ]
  },
  {
   "cell_type": "code",
   "execution_count": 15,
   "metadata": {},
   "outputs": [
    {
     "name": "stdout",
     "output_type": "stream",
     "text": [
      "12297\n"
     ]
    }
   ],
   "source": [
    "#MLP revisited with batch normalization\n",
    "n_embed = 10 #number of embedding dimensions\n",
    "n_hidden = 200 #number of hidden units\n",
    "\n",
    "g = torch.Generator().manual_seed(12345)\n",
    "#generate the embeddings for each of the 27 characters\n",
    "C = torch.randn((vocab_size, n_embed), generator=g, requires_grad=True)\n",
    "#weight matrix of the first layer\n",
    "#we have forecibly normalized the weight matrix using the kaiming initialization\n",
    "W1 = torch.randn((n_embed*block_size, n_hidden), generator=g, requires_grad=False) * (5/3) / ((n_embed*block_size)**0.5)\n",
    "b1 = torch.randn(n_hidden, generator=g, requires_grad=True)\n",
    "W2 = torch.randn((n_hidden, vocab_size), generator=g, requires_grad=False) * 0.01 \n",
    "b2 = torch.randn(vocab_size, generator=g, requires_grad=False) * 0\n",
    "\n",
    "bngain = torch.ones((1, n_hidden), requires_grad=True)\n",
    "bnbias = torch.zeros((1, n_hidden), requires_grad=True)\n",
    "\n",
    "parameters = [C, W1, b1, W2, b2, bngain, bnbias]\n",
    "print(sum(p.nelement() for p in parameters))\n",
    "for p in parameters:\n",
    "    p.requires_grad = True"
   ]
  },
  {
   "cell_type": "code",
   "execution_count": 16,
   "metadata": {},
   "outputs": [
    {
     "name": "stdout",
     "output_type": "stream",
     "text": [
      "      0/  20000 : 3.3162\n",
      "   1000/  20000 : 2.6977\n",
      "   2000/  20000 : 2.8449\n",
      "   3000/  20000 : 2.4865\n",
      "   4000/  20000 : 2.2115\n",
      "   5000/  20000 : 2.2735\n",
      "   6000/  20000 : 2.2750\n",
      "   7000/  20000 : 2.1497\n",
      "   8000/  20000 : 1.9952\n",
      "   9000/  20000 : 2.1704\n",
      "  10000/  20000 : 2.4477\n",
      "  11000/  20000 : 2.3375\n",
      "  12000/  20000 : 2.6352\n",
      "  13000/  20000 : 2.5314\n",
      "  14000/  20000 : 2.2607\n",
      "  15000/  20000 : 2.2338\n",
      "  16000/  20000 : 1.8681\n",
      "  17000/  20000 : 2.2543\n",
      "  18000/  20000 : 1.9265\n",
      "  19000/  20000 : 2.2513\n"
     ]
    }
   ],
   "source": [
    "import torch.nn.functional as F\n",
    "#same optimization as last time\n",
    "max_steps = 20000\n",
    "batch_size = 32\n",
    "lossi=[]\n",
    "\n",
    "for i in range(max_steps):\n",
    "    #minibatch construct\n",
    "    ix = torch.randint(0, Xtr.shape[0], (batch_size,), generator=g)\n",
    "    Xb, Yb = Xtr[ix], Ytr[ix]\n",
    "\n",
    "    #forward pass\n",
    "    emb = C[Xb] #embed the characters into the vectors\n",
    "    embcat = emb.view(emb.shape[0], -1) #concatenate vectors\n",
    "    hpreact = embcat @ W1 + b1 #hidden layer pre-activation\n",
    "    hpreact = bngain*(hpreact - hpreact.mean(0, keepdim=True)) / hpreact.std(0, keepdim=True) + bnbias #batch normalization layer \n",
    "    h = torch.tanh(hpreact) #hidden layer\n",
    "    logits = h @ W2 + b2\n",
    "    loss = F.cross_entropy(logits, Yb) #loss function\n",
    "\n",
    "    #backward pass\n",
    "    for p in parameters:\n",
    "        p.grad = None\n",
    "    loss.backward()\n",
    "\n",
    "    #update\n",
    "    lr = 0.1 if i<100000 else 0.01 #step learning rate decay\n",
    "    for p in parameters:\n",
    "        p.data += -lr*p.grad\n",
    "\n",
    "    #track statistics\n",
    "    if i%1000 == 0:\n",
    "        print(f\"{i:7d}/{max_steps:7d} : {loss.item():.4f}\")\n",
    "    lossi.append(loss.log10().item())\n",
    "\n"
   ]
  },
  {
   "cell_type": "code",
   "execution_count": 17,
   "metadata": {},
   "outputs": [
    {
     "data": {
      "text/plain": [
       "[<matplotlib.lines.Line2D at 0x1dd62e80d00>]"
      ]
     },
     "execution_count": 17,
     "metadata": {},
     "output_type": "execute_result"
    },
    {
     "data": {
      "image/png": "[encoded data removed]",
      "text/plain": [
       "<Figure size 640x480 with 1 Axes>"
      ]
     },
     "metadata": {},
     "output_type": "display_data"
    }
   ],
   "source": [
    "plt.plot(lossi)"
   ]
  },
  {
   "cell_type": "code",
   "execution_count": 18,
   "metadata": {},
   "outputs": [
    {
     "name": "stdout",
     "output_type": "stream",
     "text": [
      "train 2.2219111919403076\n",
      "val 2.2468183040618896\n"
     ]
    }
   ],
   "source": [
    "@torch.no_grad() #this decorater disables gradient tracking\n",
    "def split_loss(split):\n",
    "    x, y = {\n",
    "        \"train\": (Xtr, Ytr),\n",
    "        \"val\": (Xdev, Ydev),\n",
    "        \"test\": (Xte, Yte),\n",
    "    }[split]\n",
    "    emb = C[x] # (N, block_size, n_embed)\n",
    "    embcat = emb.view(emb.shape[0], -1) #concat into (N, block_size*n_embed)\n",
    "    hpreact = embcat @ W1 + b1 #hidden layer pre-activation\n",
    "    hpreact = bngain*(hpreact - hpreact.mean(0, keepdim=True)) / hpreact.std(0, keepdim=True) + bnbias #batch normalization layer \n",
    "    h = torch.tanh(hpreact) #(N, n_hidden)\n",
    "    logits = h @ W2 + b2 # (N, vocab_size)\n",
    "    loss = F.cross_entropy(logits, y)\n",
    "    print(split, loss.item())\n",
    "\n",
    "split_loss('train')\n",
    "split_loss('val')\n"
   ]
  },
  {
   "cell_type": "markdown",
   "metadata": {},
   "source": [
    "Applying batchnorm to the training creates an issue of predicting the output when a single input is given, because the network expects a batch of training samples. To rectify this, we can apply an extra training step "
   ]
  },
  {
   "cell_type": "code",
   "execution_count": 21,
   "metadata": {},
   "outputs": [
    {
     "name": "stdout",
     "output_type": "stream",
     "text": [
      "train 2.2219111919403076\n",
      "val 2.2468454837799072\n"
     ]
    }
   ],
   "source": [
    "#calibrate the batch norm at the end of the training\n",
    "\n",
    "with torch.no_grad():\n",
    "    #pass the training set through\n",
    "    emb = C[Xtr]\n",
    "    embcat = emb.view(emb.shape[0], -1)\n",
    "    hpreact = embcat @ W1 + b1\n",
    "    #measure the mean/std over the entire training set\n",
    "    bnmean = hpreact.mean(0, keepdim=True)\n",
    "    bnstd = hpreact.std(0, keepdim=True)\n",
    "\n",
    "@torch.no_grad() #this decorater disables gradient tracking\n",
    "def split_loss(split):\n",
    "    x, y = {\n",
    "        \"train\": (Xtr, Ytr),\n",
    "        \"val\": (Xdev, Ydev),\n",
    "        \"test\": (Xte, Yte),\n",
    "    }[split]\n",
    "    emb = C[x] # (N, block_size, n_embed)\n",
    "    embcat = emb.view(emb.shape[0], -1) #concat into (N, block_size*n_embed)\n",
    "    hpreact = embcat @ W1 + b1 #hidden layer pre-activation\n",
    "    hpreact = bngain*(hpreact - bnmean) / bnstd + bnbias #batch normalization layer \n",
    "    h = torch.tanh(hpreact) #(N, n_hidden)\n",
    "    logits = h @ W2 + b2 # (N, vocab_size)\n",
    "    loss = F.cross_entropy(logits, y)\n",
    "    print(split, loss.item())\n",
    "\n",
    "split_loss('train')\n",
    "split_loss('val')\n"
   ]
  },
  {
   "cell_type": "markdown",
   "metadata": {},
   "source": [
    "Or! We can calculate the mean of the whole training samples while training by calculating a running loss and running standard deviation"
   ]
  },
  {
   "cell_type": "code",
   "execution_count": 22,
   "metadata": {},
   "outputs": [
    {
     "name": "stdout",
     "output_type": "stream",
     "text": [
      "12297\n"
     ]
    }
   ],
   "source": [
    "#MLP revisited with batch normalization and running loss\n",
    "n_embed = 10 #number of embedding dimensions\n",
    "n_hidden = 200 #number of hidden units\n",
    "\n",
    "g = torch.Generator().manual_seed(12345)\n",
    "#generate the embeddings for each of the 27 characters\n",
    "C = torch.randn((vocab_size, n_embed), generator=g, requires_grad=True)\n",
    "#weight matrix of the first layer\n",
    "#we have forecibly normalized the weight matrix using the kaiming initialization\n",
    "W1 = torch.randn((n_embed*block_size, n_hidden), generator=g, requires_grad=False) * (5/3) / ((n_embed*block_size)**0.5)\n",
    "b1 = torch.randn(n_hidden, generator=g, requires_grad=True)\n",
    "W2 = torch.randn((n_hidden, vocab_size), generator=g, requires_grad=False) * 0.01 \n",
    "b2 = torch.randn(vocab_size, generator=g, requires_grad=False) * 0\n",
    "\n",
    "bngain = torch.ones((1, n_hidden), requires_grad=True)\n",
    "bnbias = torch.zeros((1, n_hidden), requires_grad=True)\n",
    "bnmean_running = torch.zeros((1, n_hidden), requires_grad=False)\n",
    "bnstd_running = torch.ones((1, n_hidden), requires_grad=False)\n",
    "\n",
    "\n",
    "parameters = [C, W1, b1, W2, b2, bngain, bnbias]\n",
    "print(sum(p.nelement() for p in parameters))\n",
    "for p in parameters:\n",
    "    p.requires_grad = True"
   ]
  },
  {
   "cell_type": "code",
   "execution_count": 23,
   "metadata": {},
   "outputs": [
    {
     "name": "stdout",
     "output_type": "stream",
     "text": [
      "      0/  20000 : 3.3162\n",
      "   1000/  20000 : 2.6977\n",
      "   2000/  20000 : 2.8449\n",
      "   3000/  20000 : 2.4865\n",
      "   4000/  20000 : 2.2115\n",
      "   5000/  20000 : 2.2735\n",
      "   6000/  20000 : 2.2750\n",
      "   7000/  20000 : 2.1497\n",
      "   8000/  20000 : 1.9952\n",
      "   9000/  20000 : 2.1704\n",
      "  10000/  20000 : 2.4477\n",
      "  11000/  20000 : 2.3375\n",
      "  12000/  20000 : 2.6352\n",
      "  13000/  20000 : 2.5314\n",
      "  14000/  20000 : 2.2607\n",
      "  15000/  20000 : 2.2338\n",
      "  16000/  20000 : 1.8681\n",
      "  17000/  20000 : 2.2543\n",
      "  18000/  20000 : 1.9265\n",
      "  19000/  20000 : 2.2513\n"
     ]
    }
   ],
   "source": [
    "import torch.nn.functional as F\n",
    "#same optimization as last time\n",
    "max_steps = 20000\n",
    "batch_size = 32\n",
    "lossi=[]\n",
    "\n",
    "for i in range(max_steps):\n",
    "    #minibatch construct\n",
    "    ix = torch.randint(0, Xtr.shape[0], (batch_size,), generator=g)\n",
    "    Xb, Yb = Xtr[ix], Ytr[ix]\n",
    "\n",
    "    #forward pass\n",
    "    emb = C[Xb] #embed the characters into the vectors\n",
    "    embcat = emb.view(emb.shape[0], -1) #concatenate vectors\n",
    "    hpreact = embcat @ W1 + b1 #hidden layer pre-activation\n",
    "    bnmeani = hpreact.mean(0, keepdim=True)\n",
    "    bnstdi = hpreact.std(0, keepdim=True)\n",
    "    hpreact = bngain*(hpreact - bnmeani) / bnstdi + bnbias #batch normalization layer \n",
    "    \n",
    "    with torch.no_grad():\n",
    "        bnmean_running = 0.999 * bnmean_running + 0.001 * bnmeani\n",
    "        bnstd_running = 0.999 * bnstd_running + 0.001 * bnstdi\n",
    "    \n",
    "    h = torch.tanh(hpreact) #hidden layer\n",
    "    logits = h @ W2 + b2\n",
    "    loss = F.cross_entropy(logits, Yb) #loss function\n",
    "\n",
    "    #backward pass\n",
    "    for p in parameters:\n",
    "        p.grad = None\n",
    "    loss.backward()\n",
    "\n",
    "    #update\n",
    "    lr = 0.1 if i<100000 else 0.01 #step learning rate decay\n",
    "    for p in parameters:\n",
    "        p.data += -lr*p.grad\n",
    "\n",
    "    #track statistics\n",
    "    if i%1000 == 0:\n",
    "        print(f\"{i:7d}/{max_steps:7d} : {loss.item():.4f}\")\n",
    "    lossi.append(loss.log10().item())\n",
    "\n"
   ]
  },
  {
   "cell_type": "code",
   "execution_count": 24,
   "metadata": {},
   "outputs": [
    {
     "name": "stdout",
     "output_type": "stream",
     "text": [
      "train 2.2258713245391846\n",
      "val 2.250460147857666\n"
     ]
    }
   ],
   "source": [
    "@torch.no_grad() #this decorater disables gradient tracking\n",
    "def split_loss(split):\n",
    "    x, y = {\n",
    "        \"train\": (Xtr, Ytr),\n",
    "        \"val\": (Xdev, Ydev),\n",
    "        \"test\": (Xte, Yte),\n",
    "    }[split]\n",
    "    emb = C[x] # (N, block_size, n_embed)\n",
    "    embcat = emb.view(emb.shape[0], -1) #concat into (N, block_size*n_embed)\n",
    "    hpreact = embcat @ W1 + b1 #hidden layer pre-activation\n",
    "    hpreact = bngain*(hpreact - bnmean_running) / bnstd_running + bnbias #batch normalization layer \n",
    "    h = torch.tanh(hpreact) #(N, n_hidden)\n",
    "    logits = h @ W2 + b2 # (N, vocab_size)\n",
    "    loss = F.cross_entropy(logits, y)\n",
    "    print(split, loss.item())\n",
    "\n",
    "split_loss('train')\n",
    "split_loss('val')"
   ]
  }
 ],
 "metadata": {
  "kernelspec": {
   "display_name": "graphgan",
   "language": "python",
   "name": "python3"
  },
  "language_info": {
   "codemirror_mode": {
    "name": "ipython",
    "version": 3
   },
   "file_extension": ".py",
   "mimetype": "text/x-python",
   "name": "python",
   "nbconvert_exporter": "python",
   "pygments_lexer": "ipython3",
   "version": "3.8.18"
  }
 },
 "nbformat": 4,
 "nbformat_minor": 2
}
